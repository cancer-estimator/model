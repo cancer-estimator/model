{
 "cells": [
  {
   "cell_type": "code",
   "execution_count": null,
   "id": "cd8cb96b-32b0-4fb7-be88-26d400bacdf8",
   "metadata": {},
   "outputs": [],
   "source": [
    "! pwd"
   ]
  },
  {
   "cell_type": "code",
   "execution_count": null,
   "id": "094a0dbd-55ff-4095-8b60-b17ca1795c9a",
   "metadata": {},
   "outputs": [],
   "source": [
    "from pathlib import Path\n",
    "\n",
    "base_path = Path(\"../\")\n",
    "datasets = [\n",
    "    base_path / \"datasets/breast-cancer/death.xlsx\",\n",
    "    base_path / \"datasets/breast-cancer/recovered.xlsx\",\n",
    "    base_path / \"datasets/breast-cancer/under_treatment.xlsx\",\n",
    "]\n",
    "assert [dataset.exists() for dataset in datasets], \"datasets not found, check dvc\""
   ]
  },
  {
   "cell_type": "code",
   "execution_count": null,
   "id": "ec0d231d-0d5c-499a-b8b4-abae5d0487ef",
   "metadata": {},
   "outputs": [],
   "source": [
    "import pandas as pd\n",
    "from ydata_profiling import ProfileReport\n",
    "\n",
    "dataset = datasets[2]\n",
    "df = pd.read_excel(dataset)\n",
    "html_report_name = dataset.name.replace(\"xlsx\", \"html\")\n",
    "\n",
    "print(df.info())\n",
    "\n",
    "profile = ProfileReport(df)\n",
    "profile.to_file(html_report_name)\n",
    "profile"
   ]
  },
  {
   "cell_type": "code",
   "execution_count": null,
   "id": "cd2b4335-f47b-4f55-93cf-8c250a343312",
   "metadata": {},
   "outputs": [],
   "source": []
  }
 ],
 "metadata": {
  "kernelspec": {
   "display_name": "Python 3 (ipykernel)",
   "language": "python",
   "name": "python3"
  },
  "language_info": {
   "codemirror_mode": {
    "name": "ipython",
    "version": 3
   },
   "file_extension": ".py",
   "mimetype": "text/x-python",
   "name": "python",
   "nbconvert_exporter": "python",
   "pygments_lexer": "ipython3",
   "version": "3.10.12"
  }
 },
 "nbformat": 4,
 "nbformat_minor": 5
}
